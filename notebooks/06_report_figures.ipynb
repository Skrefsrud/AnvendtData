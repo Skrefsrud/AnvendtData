{
 "cells": [
  {
   "cell_type": "code",
   "execution_count": null,
   "id": "8376e209",
   "metadata": {},
   "outputs": [],
   "source": [
    "import os\n",
    "import pandas as pd\n",
    "import matplotlib.pyplot as plt\n",
    "import seaborn as sns\n",
    "import joblib\n",
    "\n",
    "PROJECT_ROOT = os.path.abspath(os.path.join(os.getcwd(), \"..\"))\n",
    "FIG_DIR = os.path.join(PROJECT_ROOT, \"figures\")\n",
    "REPORT_DIR = os.path.join(PROJECT_ROOT, \"reports\")\n",
    "MODEL_DIR = os.path.join(PROJECT_ROOT, \"models\")\n",
    "os.makedirs(FIG_DIR, exist_ok=True)\n",
    "\n",
    "# Load SHAP importance file (Random Forest)\n",
    "rf_importance = pd.read_csv(os.path.join(REPORT_DIR, \"random_forest_shap_importance.csv\"))\n",
    "\n",
    "# If you have XGB shap importance later, load it too\n",
    "xgb_importance_path = os.path.join(REPORT_DIR, \"xgb_shap_importance.csv\")\n",
    "xgb_importance = pd.read_csv(xgb_importance_path) if os.path.exists(xgb_importance_path) else None"
   ]
  },
  {
   "cell_type": "code",
   "execution_count": null,
   "id": "e33cc795",
   "metadata": {},
   "outputs": [],
   "source": [
    "# Model comparison summary (from earlier notebook outputs)\n",
    "data = {\n",
    "    \"Model\": [\"Random Forest\", \"XGBoost\"],\n",
    "    \"Accuracy\": [0.746, 0.740],\n",
    "    \"Precision (macro)\": [0.69, 0.67],\n",
    "    \"Recall (macro)\": [0.69, 0.66],\n",
    "    \"F1 (macro)\": [0.69, 0.67],\n",
    "}\n",
    "\n",
    "metrics_df = pd.DataFrame(data)\n",
    "metrics_df"
   ]
  },
  {
   "cell_type": "code",
   "execution_count": null,
   "id": "aeb1844c",
   "metadata": {},
   "outputs": [],
   "source": [
    "plt.figure(figsize=(7,4))\n",
    "sns.barplot(data=metrics_df.melt(id_vars=\"Model\"), x=\"variable\", y=\"value\", hue=\"Model\")\n",
    "plt.title(\"Model Performance Comparison — RF vs XGB\")\n",
    "plt.ylabel(\"Score\")\n",
    "plt.xlabel(\"\")\n",
    "plt.legend(title=\"Model\")\n",
    "plt.tight_layout()\n",
    "plt.savefig(os.path.join(FIG_DIR, \"model_comparison.png\"), dpi=150)\n",
    "plt.show()"
   ]
  },
  {
   "cell_type": "code",
   "execution_count": null,
   "id": "0ae051f0",
   "metadata": {},
   "outputs": [],
   "source": [
    "top_rf = rf_importance.head(10)\n",
    "plt.figure(figsize=(6,4))\n",
    "sns.barplot(data=top_rf, x=\"mean_abs_shap\", y=\"feature\", color=\"royalblue\")\n",
    "plt.title(\"Top 10 SHAP Features — Random Forest\")\n",
    "plt.xlabel(\"Mean |SHAP| value (global importance)\")\n",
    "plt.ylabel(\"\")\n",
    "plt.tight_layout()\n",
    "plt.savefig(os.path.join(FIG_DIR, \"rf_top_shap_features.png\"), dpi=150)\n",
    "plt.show()"
   ]
  },
  {
   "cell_type": "code",
   "execution_count": null,
   "id": "2996f88e",
   "metadata": {},
   "outputs": [],
   "source": [
    "if xgb_importance is not None:\n",
    "    top_xgb = xgb_importance.head(10)\n",
    "    plt.figure(figsize=(6,4))\n",
    "    sns.barplot(data=top_xgb, x=\"mean_abs_shap\", y=\"feature\", color=\"orange\")\n",
    "    plt.title(\"Top 10 SHAP Features — XGBoost\")\n",
    "    plt.xlabel(\"Mean |SHAP| value (global importance)\")\n",
    "    plt.tight_layout()\n",
    "    plt.savefig(os.path.join(FIG_DIR, \"xgb_top_shap_features.png\"), dpi=150)\n",
    "    plt.show()"
   ]
  },
  {
   "cell_type": "code",
   "execution_count": null,
   "id": "f93c617e",
   "metadata": {},
   "outputs": [],
   "source": [
    "# Example merge if feature_importance file exists\n",
    "feat_imp_path = os.path.join(REPORT_DIR, \"rf_feature_importance.csv\")\n",
    "if os.path.exists(feat_imp_path):\n",
    "    feat_imp = pd.read_csv(feat_imp_path)\n",
    "    merged = pd.merge(rf_importance, feat_imp, on=\"feature\", suffixes=(\"_shap\", \"_rf\"))\n",
    "    \n",
    "    plt.figure(figsize=(5,5))\n",
    "    sns.scatterplot(data=merged, x=\"importance_rf\", y=\"mean_abs_shap\")\n",
    "    plt.title(\"Feature Importance vs SHAP Importance (RF)\")\n",
    "    plt.xlabel(\"Model Feature Importance (RF)\")\n",
    "    plt.ylabel(\"Mean |SHAP| Value\")\n",
    "    plt.tight_layout()\n",
    "    plt.savefig(os.path.join(FIG_DIR, \"rf_shap_vs_importance.png\"), dpi=150)\n",
    "    plt.show()"
   ]
  },
  {
   "cell_type": "code",
   "execution_count": null,
   "id": "cb78b116",
   "metadata": {},
   "outputs": [],
   "source": [
    "summary_text = f\"\"\"\n",
    "# Final Results Summary\n",
    "\n",
    "**Random Forest**\n",
    "- Accuracy: 0.746\n",
    "- F1 (macro): 0.69\n",
    "\n",
    "**XGBoost**\n",
    "- Accuracy: 0.740\n",
    "- F1 (macro): 0.67\n",
    "\n",
    "Top Predictors (SHAP):\n",
    "1. Average Grade\n",
    "2. Overall Approval Rate\n",
    "3. Total Approved Units\n",
    "4. Tuition Fees Up to Date\n",
    "5. Age at Enrollment\n",
    "\n",
    "**Interpretation:** Academic performance and tuition compliance dominate student outcome prediction.\n",
    "\"\"\"\n",
    "\n",
    "report_path = os.path.join(REPORT_DIR, \"final_summary.md\")\n",
    "with open(report_path, \"w\") as f:\n",
    "    f.write(summary_text.strip())\n",
    "\n",
    "print(\"Saved:\", report_path)"
   ]
  }
 ],
 "metadata": {
  "kernelspec": {
   "display_name": ".venv (3.13.7)",
   "language": "python",
   "name": "python3"
  },
  "language_info": {
   "name": "python",
   "version": "3.13.7"
  }
 },
 "nbformat": 4,
 "nbformat_minor": 5
}
